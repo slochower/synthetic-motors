{
 "cells": [
  {
   "cell_type": "markdown",
   "metadata": {},
   "source": [
    "# Psi4 geometry optimization of Feringa's second generation molecular motor\n",
    "Štacko, P. et al. Locked synchronous rotor motion in a molecular motor. Science 356, 964–968 (2017)."
   ]
  },
  {
   "cell_type": "code",
   "execution_count": 1,
   "metadata": {
    "ExecuteTime": {
     "end_time": "2017-11-17T01:30:39.003857Z",
     "start_time": "2017-11-17T01:30:38.994831Z"
    },
    "collapsed": true
   },
   "outputs": [],
   "source": [
    "import sys"
   ]
  },
  {
   "cell_type": "code",
   "execution_count": 2,
   "metadata": {
    "ExecuteTime": {
     "end_time": "2017-11-17T01:30:39.594128Z",
     "start_time": "2017-11-17T01:30:39.577759Z"
    }
   },
   "outputs": [
    {
     "data": {
      "text/plain": [
       "'/home/dslochower/data/applications/psi4conda/envs/p4env/bin/python'"
      ]
     },
     "execution_count": 2,
     "metadata": {},
     "output_type": "execute_result"
    }
   ],
   "source": [
    "sys.executable"
   ]
  },
  {
   "cell_type": "code",
   "execution_count": 3,
   "metadata": {
    "ExecuteTime": {
     "end_time": "2017-11-17T01:30:40.552208Z",
     "start_time": "2017-11-17T01:30:40.546933Z"
    }
   },
   "outputs": [
    {
     "data": {
      "text/plain": [
       "['',\n",
       " '/home/dslochower/data/applications/psi4conda/envs/p4env/lib/python36.zip',\n",
       " '/home/dslochower/data/applications/psi4conda/envs/p4env/lib/python3.6',\n",
       " '/home/dslochower/data/applications/psi4conda/envs/p4env/lib/python3.6/lib-dynload',\n",
       " '/home/dslochower/data/applications/psi4conda/envs/p4env/lib/python3.6/site-packages',\n",
       " '/home/dslochower/data/applications/psi4conda/envs/p4env/lib/python3.6/site-packages/IPython/extensions',\n",
       " '/home/dslochower/.ipython']"
      ]
     },
     "execution_count": 3,
     "metadata": {},
     "output_type": "execute_result"
    }
   ],
   "source": [
    "sys.path"
   ]
  },
  {
   "cell_type": "code",
   "execution_count": null,
   "metadata": {
    "ExecuteTime": {
     "start_time": "2017-11-17T01:30:43.001Z"
    }
   },
   "outputs": [],
   "source": [
    "import psi4"
   ]
  },
  {
   "cell_type": "code",
   "execution_count": null,
   "metadata": {
    "collapsed": true
   },
   "outputs": [],
   "source": []
  }
 ],
 "metadata": {
  "kernelspec": {
   "display_name": "Python 3",
   "language": "python",
   "name": "python3"
  },
  "language_info": {
   "codemirror_mode": {
    "name": "ipython",
    "version": 3
   },
   "file_extension": ".py",
   "mimetype": "text/x-python",
   "name": "python",
   "nbconvert_exporter": "python",
   "pygments_lexer": "ipython3",
   "version": "3.6.3"
  }
 },
 "nbformat": 4,
 "nbformat_minor": 2
}
