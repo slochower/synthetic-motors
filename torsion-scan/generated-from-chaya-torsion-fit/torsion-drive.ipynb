{
 "cells": [
  {
   "cell_type": "code",
   "execution_count": 7,
   "metadata": {
    "ExecuteTime": {
     "end_time": "2017-11-19T10:31:41.833525Z",
     "start_time": "2017-11-19T10:31:41.826502Z"
    },
    "collapsed": true
   },
   "outputs": [],
   "source": [
    "import os\n",
    "import glob\n",
    "import mdtraj as md\n",
    "from fnmatch import fnmatch"
   ]
  },
  {
   "cell_type": "code",
   "execution_count": 8,
   "metadata": {
    "ExecuteTime": {
     "end_time": "2017-11-19T10:31:42.467707Z",
     "start_time": "2017-11-19T10:31:42.341032Z"
    },
    "collapsed": true
   },
   "outputs": [],
   "source": [
    "def pdb_to_psi4(pdb, mol_name, method, basis_set, charge=0, multiplicity=1, symmetry=None, geom_opt=True,\n",
    "                sp_energy=False, fixed_dih=None, mem=None):\n",
    "    \"\"\"\n",
    "    :param pdb: str\n",
    "        path to pdb file\n",
    "    :param method: list of str\n",
    "        QM method (see psi4 website for options)\n",
    "        If length 2, first one will be used for geom opt and second for spe.\n",
    "    :param basis_set: str\n",
    "        specification of basis set\n",
    "    :param symmetry: str\n",
    "        symmetry of molecule. Default is None.\n",
    "    :param geom_opt: bool\n",
    "        if True, will generate input file for geometry optimization\n",
    "    :param sp_energy: bool\n",
    "        if True, will run a single point energy calculation (if geom_opt also true, SPE calculation will occur after\n",
    "        geom opt\n",
    "    :param fixed_dih: str\n",
    "        string of dihedral that should be fixed at specified angle. Format: \"4 7 10 14 90.00\"\n",
    "        default: None - will not fix dihedral\n",
    "        Beware:\n",
    "        ------\n",
    "        Because of a bug in psi4, dihedral angle can't be exactly 0 (same would apply for 180) so use 0.001 instead\n",
    "    :param mem: int\n",
    "        memory allocation for calculation\n",
    "    :param outfile: str\n",
    "        if specified, will save file there\n",
    "    :return:\n",
    "        psi4 input string. If outfile, save file to specified path\n",
    "    \"\"\"\n",
    "\n",
    "    input_string = \"\"\n",
    "\n",
    "    if mem is not None:\n",
    "        input_string += \"\\nmemory {}\\n\".format(mem)\n",
    "\n",
    "    input_string += \"\\nmolecule {}\".format(mol_name)\n",
    "    input_string += \" {\\n\"\n",
    "    if symmetry is not None:\n",
    "        input_string += \"  symmetry {}\\n\".format(symmetry)\n",
    "    input_string += \"  {} {} \\n\".format(charge, multiplicity)\n",
    "\n",
    "    mol = md.load(pdb)\n",
    "    for i, atom in enumerate(mol.topology.atoms):\n",
    "        element = atom.element.symbol\n",
    "        # Convert to Angstroms\n",
    "        xyz = mol.xyz[0]*10\n",
    "        input_string += \"  {}      {:05.3f}   {:05.3f}   {:05.3f}\\n\".format(element, xyz[i][0], xyz[i][1], xyz[i][2])\n",
    "\n",
    "    input_string += \"  units Angstrom\\n\"\n",
    "    input_string += \"}\\n\"\n",
    "\n",
    "    if fixed_dih is not None:\n",
    "        input_string += '\\ndih_string = \"{}\"'.format(fixed_dih)\n",
    "        # ToDo add string because that's the only thing that seems to work\n",
    "        input_string += '\\nset optking fixed_dihedral = $dih_string\\n'\n",
    "\n",
    "    if geom_opt:\n",
    "        input_string += \"\\noptimize('{}/{}')\\n\".format(method[0], basis_set[0])\n",
    "\n",
    "    if sp_energy:\n",
    "        input_string += \"\\nenergy('{}/{}')\\n\".format(method[-1], basis_set[-1])\n",
    "\n",
    "    return input_string\n",
    "\n",
    "\n",
    "def generate_scan_input(root, filetype, mol_name, method, basis_set, dihedral=None, charge=0, multiplicity=1, symmetry=None,\n",
    "                        geom_opt=True, sp_energy=False, mem=None):\n",
    "    \"\"\"\n",
    "    This function takes a directory and writes out psi4 input files for all files that match the filetype specified\n",
    "    :param root: str\n",
    "        path to files\n",
    "    :param filetype: str\n",
    "        input filetypes\n",
    "    :param mol_name: str\n",
    "        molecule name\n",
    "    :param dihedral: str\n",
    "        index of atoms that should remain fixed. format '1  2  3  4'\n",
    "    :param method: list of str\n",
    "        QM method (see psi4 website for options)\n",
    "    :param basis_set: list of str\n",
    "        see psi4 website for options\n",
    "    :param charge: int\n",
    "        default 0\n",
    "    :param multiplicity: int\n",
    "        default 1\n",
    "    :param symmetry: str\n",
    "        symmetry of molecule. default None\n",
    "    :param geom_opt: bool\n",
    "        if True, run geometry optimization\n",
    "    :param sp_energy: bool\n",
    "        if True, run a single point energy calculation after geomoetry optimization\n",
    "    :param mem: str\n",
    "        memory allocation\n",
    "    \"\"\"\n",
    "    if not dihedral:\n",
    "        dihedral = list(filter(None, root.split('/')))[-1].split('_')\n",
    "        dihedral = dihedral[0] + ' ' + dihedral[1] + ' ' + dihedral[2] + ' ' + dihedral[3]\n",
    "    input_files = []\n",
    "    pattern = \"*.{}\".format(filetype)\n",
    "    for path, subdir, files in os.walk(root):\n",
    "        for name in files:\n",
    "            if fnmatch(name, pattern):\n",
    "                input_files.append(os.path.join(path, name))\n",
    "\n",
    "    for f in input_files:\n",
    "        fixed_dih_angle = f.split('/')[-2]\n",
    "        if fixed_dih_angle == '0':\n",
    "            fixed_dih_angle = '0.001'\n",
    "        if fixed_dih_angle == '180':\n",
    "            fixed_dih_angle = '180.001'\n",
    "        if fixed_dih_angle == '360':\n",
    "            fixed_dih_angle = '360.001'\n",
    "        dihedral_string = dihedral + ' ' + fixed_dih_angle\n",
    "        output = pdb_to_psi4(pdb=f, mol_name=mol_name, method=method, basis_set=basis_set, charge=charge,\n",
    "                             multiplicity=multiplicity, symmetry=symmetry, geom_opt=geom_opt, sp_energy=sp_energy,\n",
    "                             fixed_dih=dihedral_string, mem=mem)\n",
    "\n",
    "        filename = f.replace(filetype, 'dat')\n",
    "        psi4_input = open(filename, 'w')\n",
    "        psi4_input.write(output)\n",
    "        psi4_input.close()\n"
   ]
  },
  {
   "cell_type": "code",
   "execution_count": 33,
   "metadata": {
    "ExecuteTime": {
     "end_time": "2017-11-19T10:48:57.378354Z",
     "start_time": "2017-11-19T10:48:57.173902Z"
    }
   },
   "outputs": [],
   "source": [
    "generate_scan_input('B3LYP-torsion-scan/', filetype='pdb', mol_name='', dihedral='17 4 2 5',\n",
    "                     method=['B3LYP'], basis_set=['cc-PVDZ'], symmetry=None, mem='8000 mb')\n"
   ]
  },
  {
   "cell_type": "code",
   "execution_count": null,
   "metadata": {
    "ExecuteTime": {
     "end_time": "2017-11-19T10:40:40.366657Z",
     "start_time": "2017-11-19T10:40:40.359446Z"
    }
   },
   "outputs": [],
   "source": []
  },
  {
   "cell_type": "code",
   "execution_count": 34,
   "metadata": {
    "ExecuteTime": {
     "end_time": "2017-11-19T10:49:00.018727Z",
     "start_time": "2017-11-19T10:49:00.000635Z"
    },
    "collapsed": true
   },
   "outputs": [],
   "source": [
    "def start_psi4_calculation(path, input_file):\n",
    "    output_file = input_file.replace('dat', 'out')\n",
    "    input_file = os.path.join(path, input_file)\n",
    "    output_file = os.path.join(path, output_file)\n",
    "    psi4_binary = '/home/dslochower/data/applications/psi4conda/bin/psi4'\n",
    "    cmd = psi4_binary + ' ' + input_file + ' -o ' + output_file + ' 2>&1'\n",
    "    print(cmd)\n",
    "    os.system(cmd)"
   ]
  },
  {
   "cell_type": "code",
   "execution_count": 35,
   "metadata": {
    "ExecuteTime": {
     "end_time": "2017-11-19T10:49:43.040465Z",
     "start_time": "2017-11-19T10:49:01.327804Z"
    }
   },
   "outputs": [
    {
     "name": "stdout",
     "output_type": "stream",
     "text": [
      "/home/dslochower/data/applications/psi4conda/bin/psi4 B3LYP-torsion-scan/0/1540441_0.dat -o B3LYP-torsion-scan/0/1540441_0.out 2>&1\n"
     ]
    }
   ],
   "source": [
    "start_psi4_calculation('B3LYP-torsion-scan/0', '1540441_0.dat')"
   ]
  },
  {
   "cell_type": "code",
   "execution_count": 38,
   "metadata": {
    "ExecuteTime": {
     "end_time": "2017-11-19T10:50:13.218115Z",
     "start_time": "2017-11-19T10:50:13.208957Z"
    }
   },
   "outputs": [
    {
     "name": "stdout",
     "output_type": "stream",
     "text": [
      "['B3LYP-torsion-scan/0', 'B3LYP-torsion-scan/10', 'B3LYP-torsion-scan/100', 'B3LYP-torsion-scan/110', 'B3LYP-torsion-scan/120', 'B3LYP-torsion-scan/130', 'B3LYP-torsion-scan/140', 'B3LYP-torsion-scan/150', 'B3LYP-torsion-scan/160', 'B3LYP-torsion-scan/170', 'B3LYP-torsion-scan/180', 'B3LYP-torsion-scan/190', 'B3LYP-torsion-scan/20', 'B3LYP-torsion-scan/200', 'B3LYP-torsion-scan/210', 'B3LYP-torsion-scan/220', 'B3LYP-torsion-scan/230', 'B3LYP-torsion-scan/240', 'B3LYP-torsion-scan/250', 'B3LYP-torsion-scan/260', 'B3LYP-torsion-scan/270', 'B3LYP-torsion-scan/280', 'B3LYP-torsion-scan/290', 'B3LYP-torsion-scan/30', 'B3LYP-torsion-scan/300', 'B3LYP-torsion-scan/310', 'B3LYP-torsion-scan/320', 'B3LYP-torsion-scan/330', 'B3LYP-torsion-scan/340', 'B3LYP-torsion-scan/350', 'B3LYP-torsion-scan/360', 'B3LYP-torsion-scan/40', 'B3LYP-torsion-scan/50', 'B3LYP-torsion-scan/60', 'B3LYP-torsion-scan/70', 'B3LYP-torsion-scan/80', 'B3LYP-torsion-scan/90']\n"
     ]
    }
   ],
   "source": [
    "directories = sorted(glob.glob('B3LYP-torsion-scan/*'))\n",
    "print(directories)"
   ]
  },
  {
   "cell_type": "code",
   "execution_count": null,
   "metadata": {
    "ExecuteTime": {
     "start_time": "2017-11-19T18:54:06.110Z"
    }
   },
   "outputs": [
    {
     "name": "stdout",
     "output_type": "stream",
     "text": [
      "B3LYP-torsion-scan/0\n",
      "/home/dslochower/data/applications/psi4conda/bin/psi4 B3LYP-torsion-scan/0/1540441_0.dat -o B3LYP-torsion-scan/0/1540441_0.out 2>&1\n"
     ]
    }
   ],
   "source": [
    "for directory in directories:\n",
    "    print(directory)\n",
    "    file = glob.glob(os.path.join(directory, '154*.dat'))\n",
    "    basename = file[-1].split('/')[-1]\n",
    "    # print(file[-1].split('/')[-1])\n",
    "    start_psi4_calculation(directory, basename)"
   ]
  },
  {
   "cell_type": "code",
   "execution_count": null,
   "metadata": {
    "collapsed": true
   },
   "outputs": [],
   "source": []
  }
 ],
 "metadata": {
  "kernelspec": {
   "display_name": "Python [conda root]",
   "language": "python",
   "name": "conda-root-py"
  },
  "language_info": {
   "codemirror_mode": {
    "name": "ipython",
    "version": 3
   },
   "file_extension": ".py",
   "mimetype": "text/x-python",
   "name": "python",
   "nbconvert_exporter": "python",
   "pygments_lexer": "ipython3",
   "version": "3.6.0"
  }
 },
 "nbformat": 4,
 "nbformat_minor": 2
}
